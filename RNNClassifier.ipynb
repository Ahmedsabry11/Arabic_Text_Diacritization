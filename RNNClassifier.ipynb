{
  "cells": [
    {
      "cell_type": "code",
      "execution_count": 1,
      "metadata": {
        "colab": {
          "base_uri": "https://localhost:8080/"
        },
        "id": "xgGXFlxX5LaL",
        "outputId": "00340e4e-ece3-4825-8582-d4b1bf72d678"
      },
      "outputs": [],
      "source": [
        "# !pip install --upgrade pip\n",
        "# !pip install gensim\n",
        "# !pip install nltk\n",
        "# !pip install tokenizers\n",
        "# !pip install sentencepiece\n",
        "# !pip install python-bidi\n",
        "# !pip install arabic-reshaper\n",
        "# !pip install PyArabic"
      ]
    },
    {
      "cell_type": "code",
      "execution_count": 2,
      "metadata": {
        "id": "YEM7ifye8rFY"
      },
      "outputs": [
        {
          "name": "stdout",
          "output_type": "stream",
          "text": [
            "DIACRITIC2INDEX:  dict_items([('ً', 0), ('ٌ', 1), ('ٍ', 2), ('َ', 3), ('ُ', 4), ('ِ', 5), ('ّ', 6), ('ًّ', 7), ('ٌّ', 8), ('ٍّ', 9), ('َّ', 10), ('ُّ', 11), ('ِّ', 12), ('ْ', 13), ('', 14), ('0', 15)])\n",
            "{'ً': 0, 'ٌ': 1, 'ٍ': 2, 'َ': 3, 'ُ': 4, 'ِ': 5, 'ّ': 6, 'ًّ': 7, 'ٌّ': 8, 'ٍّ': 9, 'َّ': 10, 'ُّ': 11, 'ِّ': 12, 'ْ': 13, '': 14, '0': 15}\n",
            "16\n",
            "{'ء': 0, 'آ': 1, 'أ': 2, 'ؤ': 3, 'إ': 4, 'ئ': 5, 'ا': 6, 'ب': 7, 'ة': 8, 'ت': 9, 'ث': 10, 'ج': 11, 'ح': 12, 'خ': 13, 'د': 14, 'ذ': 15, 'ر': 16, 'ز': 17, 'س': 18, 'ش': 19, 'ص': 20, 'ض': 21, 'ط': 22, 'ظ': 23, 'ع': 24, 'غ': 25, 'ف': 26, 'ق': 27, 'ك': 28, 'ل': 29, 'م': 30, 'ن': 31, 'ه': 32, 'و': 33, 'ى': 34, 'ي': 35, ' ': 36, '0': 37, 's': 38}\n",
            "39\n",
            "قوله أو قطع الأول يده إلخ قال الزركشي\n",
            "sentence قَوْلُهُ أَوْ قَطَعَ الأَوَّلُ يَدَهُ إلَخْ قَالَ الزَّرْكَشِيُّ\n",
            "reference قَوْلُهُ أَوْ قَطَعَ الأَوَّلُ يَدَهُ إلَخْ قَالَ الزَّرْكَشِيُّ\n"
          ]
        }
      ],
      "source": [
        "import torch\n",
        "import torch.nn as nn\n",
        "import torch.optim as optim\n",
        "from torch.utils.data import Dataset, DataLoader\n",
        "from torchvision.transforms import ToTensor\n",
        "import pandas as pd\n",
        "# from sklearn.metrics import accuracy_score\n",
        "import numpy as np\n",
        "from utilities import *\n",
        "import textProcessing as tp\n",
        "import nltk\n",
        "import data_preprocessing as dp\n",
        "from torch.optim.lr_scheduler import StepLR\n",
        "# # nltk.download('punkt')\n",
        "# train_text = load_text(\"dataset/train.txt\")\n",
        "# tp.preprocessing_text(train_text,\"train_preprocessed.txt\")\n"
      ]
    },
    {
      "cell_type": "code",
      "execution_count": 3,
      "metadata": {
        "id": "Tft19JU78y5Z"
      },
      "outputs": [],
      "source": [
        "class MyDataset(Dataset):\n",
        "    def __init__(self):\n",
        "        self.data = load_text(\"dataset/train_preprocessed.txt\")\n",
        "        self.transform = ToTensor()\n",
        "        self.T = 300\n",
        "\n",
        "    def __len__(self):\n",
        "        return len(self.data)\n",
        "\n",
        "    def __getitem__(self, idx):\n",
        "\n",
        "        sentence = self.data[idx]\n",
        "        # extract the label\n",
        "        labels,sentence= tp.extract_diacritics_with_previous_letter('s'+sentence)\n",
        "\n",
        "        # check sentence length\n",
        "        if len(sentence) > self.T:\n",
        "            sentence = sentence[:self.T]\n",
        "            labels = labels[:self.T]\n",
        "        else:\n",
        "            for i in range(self.T - len(sentence)):\n",
        "                sentence += '0'\n",
        "                labels.append(['0','0'])\n",
        "        \n",
        "        assert len(sentence) == self.T\n",
        "        assert len(labels) == self.T\n",
        "\n",
        "        # convert the sentence to one hot encoding\n",
        "        sentence = convert_sentence_to_vector(sentence)\n",
        "\n",
        "        # convert the labels to one hot encoding\n",
        "        labels = convert_labels_to_vector(labels)\n",
        "\n",
        "        # pad the sentence and labels if smaller than T\n",
        "        temp = np.zeros((self.T, 39))\n",
        "        if self.T > sentence.shape[0]:\n",
        "            temp[:sentence.shape[0], :] = sentence\n",
        "            sentence = temp\n",
        "        else:\n",
        "            sentence = sentence[:self.T, :]\n",
        "        \n",
        "\n",
        "        # reshape the labels\n",
        "            \n",
        "        labels = labels.reshape(-1,1)\n",
        "        # temp = np.zeros((self.T,1))\n",
        "        # if self.T > labels.shape[0]:\n",
        "        #     temp[:labels.shape[0], :] = labels\n",
        "        #     labels = temp\n",
        "        # else:\n",
        "        #     labels = labels[:self.T]\n",
        "        #     # labels[self.T:, 14] = 1 \n",
        "\n",
        "        # convert the sentence and labels to tensors\n",
        "        sentence = torch.tensor(sentence, dtype=torch.float32)\n",
        "        labels = torch.LongTensor(labels)\n",
        "\n",
        "        return sentence, labels\n"
      ]
    },
    {
      "cell_type": "code",
      "execution_count": 4,
      "metadata": {
        "id": "XKO8iwvm85dF"
      },
      "outputs": [],
      "source": [
        "class RNNClassifier(nn.Module):\n",
        "    def __init__(self, input_size, hidden_size, output_size):\n",
        "        super(RNNClassifier, self).__init__()\n",
        "\n",
        "        self.hidden_size = hidden_size\n",
        "        self.input_size = input_size\n",
        "        self.num_layers = 2\n",
        "        # define the embedding layer\n",
        "        # self.embedding = nn.Embedding(input_size, hidden_size)\n",
        "        # self.rnn = nn.RNN(hidden_size, hidden_size,num_layers=self.num_layers, batch_first=True)\n",
        "\n",
        "        self.rnn = nn.RNN(self.input_size, hidden_size,num_layers=self.num_layers, batch_first=True, bidirectional=True)\n",
        "        self.linear = nn.Linear(hidden_size*2, 15)\n",
        "        self.init_weight()\n",
        "        # (n,T,15) output, labels (n,T)\n",
        "    def forward(self, input):\n",
        "        # input = self.embedding(input)\n",
        "        # print(input.shape)\n",
        "        output, _ = self.rnn(input)\n",
        "        output = self.linear(output)\n",
        "        return output\n",
        "\n",
        "    def init_hidden(self, batch_size):\n",
        "        return torch.zeros(self.num_layers,batch_size, self.hidden_size)\n",
        "    def init_weight(self):\n",
        "        for name, param in self.named_parameters():\n",
        "            if 'bias' in name:\n",
        "                nn.init.constant(param, 0.0)\n",
        "            elif 'weight' in name:\n",
        "                nn.init.xavier_normal(param)"
      ]
    },
    {
      "cell_type": "code",
      "execution_count": 5,
      "metadata": {
        "id": "ciWyFOXcgoOq"
      },
      "outputs": [],
      "source": [
        "class LSTMClassifier(nn.Module):\n",
        "    def _init_(self, input_size, hidden_size, output_size):\n",
        "        super(LSTMClassifier, self)._init_()\n",
        "\n",
        "\n",
        "        self.hidden_size = hidden_size\n",
        "        self.input_size = input_size\n",
        "\n",
        "        self.lstm = nn.LSTM(input_size, hidden_size, 5,batch_first=True)\n",
        "        self.tanh = nn.Tanh()\n",
        "        self.linear = nn.Linear(hidden_size, output_size)\n",
        "        self.init_weight()\n",
        "\n",
        "    def forward(self, input, hidden, c):\n",
        "        output, _ = self.lstm(input, (hidden,c))\n",
        "        # reshape the output to be able to pass it to the linear layer\n",
        "        # output = output.contiguous().view(-1, self.hidden_size)\n",
        "        output = self.tanh(output)\n",
        "        output = self.linear(output)\n",
        "        # output = self.soft(output)\n",
        "        return output\n",
        "\n",
        "    def init_hidden(self, batch_size):\n",
        "        return torch.zeros(1, batch_size, self.hidden_size)\n",
        "    def init_c(self, batch_size):\n",
        "        return torch.zeros(1,batch_size, self.hidden_size)\n",
        "    def init_weight(self):\n",
        "        for name, param in self.named_parameters():\n",
        "            if 'bias' in name:\n",
        "                nn.init.constant(param, 0.0)\n",
        "            elif 'weight' in name:\n",
        "                nn.init.xavier_normal(param)"
      ]
    },
    {
      "cell_type": "code",
      "execution_count": 6,
      "metadata": {
        "id": "V2Ds4I8_88bp"
      },
      "outputs": [],
      "source": [
        "# Hyperparameter\n",
        "input_size = 39\n",
        "hidden_size = 128\n",
        "output_size = 15\n",
        "batch_size = 512\n",
        "num_epochs = 10"
      ]
    },
    {
      "cell_type": "code",
      "execution_count": 7,
      "metadata": {
        "colab": {
          "base_uri": "https://localhost:8080/"
        },
        "id": "z7kWDtDX8_62",
        "outputId": "8fb7023c-5413-440e-d421-13b553dff199"
      },
      "outputs": [
        {
          "name": "stdout",
          "output_type": "stream",
          "text": [
            "cuda:0\n",
            "True\n",
            "1\n"
          ]
        },
        {
          "name": "stderr",
          "output_type": "stream",
          "text": [
            "C:\\Users\\ahmed sabry\\AppData\\Local\\Temp\\ipykernel_22188\\320445208.py:30: UserWarning: nn.init.xavier_normal is now deprecated in favor of nn.init.xavier_normal_.\n",
            "  nn.init.xavier_normal(param)\n",
            "C:\\Users\\ahmed sabry\\AppData\\Local\\Temp\\ipykernel_22188\\320445208.py:28: UserWarning: nn.init.constant is now deprecated in favor of nn.init.constant_.\n",
            "  nn.init.constant(param, 0.0)\n"
          ]
        }
      ],
      "source": [
        "# connect to GPU if available\n",
        "device = torch.device(\"cuda:0\" if torch.cuda.is_available() else \"cpu\")\n",
        "print(device)\n",
        "print(torch.cuda.is_available())\n",
        "print(torch.cuda.device_count())\n",
        "\n",
        "# Create an instance of the RNN classifier\n",
        "model = RNNClassifier(input_size, hidden_size, output_size)\n",
        "model.to(device)\n",
        "\n",
        "# Load data from CSV file\n",
        "dataset = MyDataset()\n",
        "\n",
        "# Create a dataloader to handle batching and shuffling\n",
        "train_dataloader = DataLoader(dataset, batch_size=batch_size, shuffle=False)\n",
        "\n",
        "# Define loss function and optimizer\n",
        "# criterion = nn.CrossEntropyLoss(ignore_index=0)\n",
        "\n",
        "criterion = nn.CrossEntropyLoss(ignore_index=15)\n",
        "optimizer = optim.Adam(model.parameters(), lr=0.001)\n",
        "scheduler = StepLR(optimizer, step_size=2, gamma=0.5)"
      ]
    },
    {
      "cell_type": "code",
      "execution_count": 10,
      "metadata": {
        "colab": {
          "base_uri": "https://localhost:8080/"
        },
        "id": "GxGWIp9w9EZL",
        "outputId": "cedba6a9-d3c7-459c-bdfe-2f5a48d3b19a"
      },
      "outputs": [
        {
          "name": "stdout",
          "output_type": "stream",
          "text": [
            "Epoch: 1, Batch Loss: 0.42573869228363037\n",
            "Epoch: 1, Batch Loss: 0.6393350958824158\n",
            "Epoch: 1, Batch Loss: 0.4733433127403259\n",
            "Epoch: 1, Batch Loss: 0.4819697141647339\n",
            "Epoch: 1, Batch Loss: 0.4980274736881256\n",
            "Epoch: 1, Batch Loss: 0.47648102045059204\n",
            "Epoch: 1, Batch Loss: 0.47995302081108093\n",
            "Epoch: 1, Batch Loss: 0.4537152945995331\n",
            "Epoch: 1, Batch Loss: 0.4711759686470032\n",
            "Epoch: 1, Batch Loss: 0.45292484760284424\n",
            "Epoch: 1, Batch Loss: 0.4510199725627899\n",
            "Epoch: 1, Batch Loss: 0.45789119601249695\n",
            "Epoch: 1, Batch Loss: 0.4475744962692261\n",
            "Epoch: 1, Batch Loss: 0.4626626968383789\n",
            "Epoch: 1, Batch Loss: 0.4470590054988861\n",
            "Epoch: 1, Batch Loss: 0.4388487637042999\n",
            "Epoch: 1, Batch Loss: 0.4568155109882355\n",
            "Epoch: 1, Batch Loss: 0.4423525929450989\n",
            "Epoch: 1, Batch Loss: 0.42561468482017517\n",
            "Epoch: 1, Batch Loss: 0.42810267210006714\n",
            "Epoch: 1, Batch Loss: 0.4238121807575226\n",
            "Epoch: 1, Batch Loss: 0.4280634820461273\n",
            "Epoch: 1, Batch Loss: 0.43570396304130554\n",
            "Epoch: 1, Batch Loss: 0.43989402055740356\n",
            "Epoch: 1, Batch Loss: 0.4266037046909332\n",
            "Epoch: 1, Batch Loss: 0.4211168587207794\n",
            "Epoch: 1, Batch Loss: 0.41930627822875977\n",
            "Epoch: 1, Batch Loss: 0.43653932213783264\n",
            "Epoch: 1, Batch Loss: 0.42545655369758606\n",
            "Epoch: 1, Batch Loss: 0.4217697083950043\n",
            "Epoch: 1, Batch Loss: 0.41525524854660034\n",
            "Epoch: 1, Batch Loss: 0.4182325601577759\n",
            "Epoch: 1, Batch Loss: 0.4331914186477661\n",
            "Epoch: 1, Batch Loss: 0.4169037342071533\n",
            "Epoch: 1, Batch Loss: 0.40762463212013245\n",
            "Epoch: 1, Batch Loss: 0.41655340790748596\n"
          ]
        },
        {
          "ename": "KeyboardInterrupt",
          "evalue": "",
          "output_type": "error",
          "traceback": [
            "\u001b[1;31m---------------------------------------------------------------------------\u001b[0m",
            "\u001b[1;31mKeyboardInterrupt\u001b[0m                         Traceback (most recent call last)",
            "Cell \u001b[1;32mIn[10], line 7\u001b[0m\n\u001b[0;32m      5\u001b[0m \u001b[38;5;28;01mfor\u001b[39;00m epoch \u001b[38;5;129;01min\u001b[39;00m \u001b[38;5;28mrange\u001b[39m(num_epochs):\n\u001b[0;32m      6\u001b[0m     scheduler\u001b[38;5;241m.\u001b[39mstep()\n\u001b[1;32m----> 7\u001b[0m \u001b[43m    \u001b[49m\u001b[38;5;28;43;01mfor\u001b[39;49;00m\u001b[43m \u001b[49m\u001b[43minputs\u001b[49m\u001b[43m,\u001b[49m\u001b[43m \u001b[49m\u001b[43mlabels\u001b[49m\u001b[43m \u001b[49m\u001b[38;5;129;43;01min\u001b[39;49;00m\u001b[43m \u001b[49m\u001b[43mtrain_dataloader\u001b[49m\u001b[43m:\u001b[49m\n\u001b[0;32m      8\u001b[0m \u001b[43m        \u001b[49m\u001b[38;5;66;43;03m# Zero the gradients\u001b[39;49;00m\n\u001b[0;32m      9\u001b[0m \u001b[43m        \u001b[49m\u001b[43moptimizer\u001b[49m\u001b[38;5;241;43m.\u001b[39;49m\u001b[43mzero_grad\u001b[49m\u001b[43m(\u001b[49m\u001b[43m)\u001b[49m\n\u001b[0;32m     10\u001b[0m \u001b[43m        \u001b[49m\u001b[38;5;28;43minput\u001b[39;49m\u001b[43m \u001b[49m\u001b[38;5;241;43m=\u001b[39;49m\u001b[43m \u001b[49m\u001b[43minputs\u001b[49m\u001b[38;5;241;43m.\u001b[39;49m\u001b[43mview\u001b[49m\u001b[43m(\u001b[49m\u001b[43minputs\u001b[49m\u001b[38;5;241;43m.\u001b[39;49m\u001b[43mshape\u001b[49m\u001b[43m[\u001b[49m\u001b[38;5;241;43m0\u001b[39;49m\u001b[43m]\u001b[49m\u001b[43m,\u001b[49m\u001b[43m \u001b[49m\u001b[38;5;241;43m-\u001b[39;49m\u001b[38;5;241;43m1\u001b[39;49m\u001b[43m,\u001b[49m\u001b[43m \u001b[49m\u001b[43minput_size\u001b[49m\u001b[43m)\u001b[49m\n",
            "File \u001b[1;32md:\\anaconda3\\envs\\pt\\Lib\\site-packages\\torch\\utils\\data\\dataloader.py:630\u001b[0m, in \u001b[0;36m_BaseDataLoaderIter.__next__\u001b[1;34m(self)\u001b[0m\n\u001b[0;32m    627\u001b[0m \u001b[38;5;28;01mif\u001b[39;00m \u001b[38;5;28mself\u001b[39m\u001b[38;5;241m.\u001b[39m_sampler_iter \u001b[38;5;129;01mis\u001b[39;00m \u001b[38;5;28;01mNone\u001b[39;00m:\n\u001b[0;32m    628\u001b[0m     \u001b[38;5;66;03m# TODO(https://github.com/pytorch/pytorch/issues/76750)\u001b[39;00m\n\u001b[0;32m    629\u001b[0m     \u001b[38;5;28mself\u001b[39m\u001b[38;5;241m.\u001b[39m_reset()  \u001b[38;5;66;03m# type: ignore[call-arg]\u001b[39;00m\n\u001b[1;32m--> 630\u001b[0m data \u001b[38;5;241m=\u001b[39m \u001b[38;5;28;43mself\u001b[39;49m\u001b[38;5;241;43m.\u001b[39;49m\u001b[43m_next_data\u001b[49m\u001b[43m(\u001b[49m\u001b[43m)\u001b[49m\n\u001b[0;32m    631\u001b[0m \u001b[38;5;28mself\u001b[39m\u001b[38;5;241m.\u001b[39m_num_yielded \u001b[38;5;241m+\u001b[39m\u001b[38;5;241m=\u001b[39m \u001b[38;5;241m1\u001b[39m\n\u001b[0;32m    632\u001b[0m \u001b[38;5;28;01mif\u001b[39;00m \u001b[38;5;28mself\u001b[39m\u001b[38;5;241m.\u001b[39m_dataset_kind \u001b[38;5;241m==\u001b[39m _DatasetKind\u001b[38;5;241m.\u001b[39mIterable \u001b[38;5;129;01mand\u001b[39;00m \\\n\u001b[0;32m    633\u001b[0m         \u001b[38;5;28mself\u001b[39m\u001b[38;5;241m.\u001b[39m_IterableDataset_len_called \u001b[38;5;129;01mis\u001b[39;00m \u001b[38;5;129;01mnot\u001b[39;00m \u001b[38;5;28;01mNone\u001b[39;00m \u001b[38;5;129;01mand\u001b[39;00m \\\n\u001b[0;32m    634\u001b[0m         \u001b[38;5;28mself\u001b[39m\u001b[38;5;241m.\u001b[39m_num_yielded \u001b[38;5;241m>\u001b[39m \u001b[38;5;28mself\u001b[39m\u001b[38;5;241m.\u001b[39m_IterableDataset_len_called:\n",
            "File \u001b[1;32md:\\anaconda3\\envs\\pt\\Lib\\site-packages\\torch\\utils\\data\\dataloader.py:674\u001b[0m, in \u001b[0;36m_SingleProcessDataLoaderIter._next_data\u001b[1;34m(self)\u001b[0m\n\u001b[0;32m    672\u001b[0m \u001b[38;5;28;01mdef\u001b[39;00m \u001b[38;5;21m_next_data\u001b[39m(\u001b[38;5;28mself\u001b[39m):\n\u001b[0;32m    673\u001b[0m     index \u001b[38;5;241m=\u001b[39m \u001b[38;5;28mself\u001b[39m\u001b[38;5;241m.\u001b[39m_next_index()  \u001b[38;5;66;03m# may raise StopIteration\u001b[39;00m\n\u001b[1;32m--> 674\u001b[0m     data \u001b[38;5;241m=\u001b[39m \u001b[38;5;28;43mself\u001b[39;49m\u001b[38;5;241;43m.\u001b[39;49m\u001b[43m_dataset_fetcher\u001b[49m\u001b[38;5;241;43m.\u001b[39;49m\u001b[43mfetch\u001b[49m\u001b[43m(\u001b[49m\u001b[43mindex\u001b[49m\u001b[43m)\u001b[49m  \u001b[38;5;66;03m# may raise StopIteration\u001b[39;00m\n\u001b[0;32m    675\u001b[0m     \u001b[38;5;28;01mif\u001b[39;00m \u001b[38;5;28mself\u001b[39m\u001b[38;5;241m.\u001b[39m_pin_memory:\n\u001b[0;32m    676\u001b[0m         data \u001b[38;5;241m=\u001b[39m _utils\u001b[38;5;241m.\u001b[39mpin_memory\u001b[38;5;241m.\u001b[39mpin_memory(data, \u001b[38;5;28mself\u001b[39m\u001b[38;5;241m.\u001b[39m_pin_memory_device)\n",
            "File \u001b[1;32md:\\anaconda3\\envs\\pt\\Lib\\site-packages\\torch\\utils\\data\\_utils\\fetch.py:51\u001b[0m, in \u001b[0;36m_MapDatasetFetcher.fetch\u001b[1;34m(self, possibly_batched_index)\u001b[0m\n\u001b[0;32m     49\u001b[0m         data \u001b[38;5;241m=\u001b[39m \u001b[38;5;28mself\u001b[39m\u001b[38;5;241m.\u001b[39mdataset\u001b[38;5;241m.\u001b[39m__getitems__(possibly_batched_index)\n\u001b[0;32m     50\u001b[0m     \u001b[38;5;28;01melse\u001b[39;00m:\n\u001b[1;32m---> 51\u001b[0m         data \u001b[38;5;241m=\u001b[39m \u001b[43m[\u001b[49m\u001b[38;5;28;43mself\u001b[39;49m\u001b[38;5;241;43m.\u001b[39;49m\u001b[43mdataset\u001b[49m\u001b[43m[\u001b[49m\u001b[43midx\u001b[49m\u001b[43m]\u001b[49m\u001b[43m \u001b[49m\u001b[38;5;28;43;01mfor\u001b[39;49;00m\u001b[43m \u001b[49m\u001b[43midx\u001b[49m\u001b[43m \u001b[49m\u001b[38;5;129;43;01min\u001b[39;49;00m\u001b[43m \u001b[49m\u001b[43mpossibly_batched_index\u001b[49m\u001b[43m]\u001b[49m\n\u001b[0;32m     52\u001b[0m \u001b[38;5;28;01melse\u001b[39;00m:\n\u001b[0;32m     53\u001b[0m     data \u001b[38;5;241m=\u001b[39m \u001b[38;5;28mself\u001b[39m\u001b[38;5;241m.\u001b[39mdataset[possibly_batched_index]\n",
            "File \u001b[1;32md:\\anaconda3\\envs\\pt\\Lib\\site-packages\\torch\\utils\\data\\_utils\\fetch.py:51\u001b[0m, in \u001b[0;36m<listcomp>\u001b[1;34m(.0)\u001b[0m\n\u001b[0;32m     49\u001b[0m         data \u001b[38;5;241m=\u001b[39m \u001b[38;5;28mself\u001b[39m\u001b[38;5;241m.\u001b[39mdataset\u001b[38;5;241m.\u001b[39m__getitems__(possibly_batched_index)\n\u001b[0;32m     50\u001b[0m     \u001b[38;5;28;01melse\u001b[39;00m:\n\u001b[1;32m---> 51\u001b[0m         data \u001b[38;5;241m=\u001b[39m [\u001b[38;5;28;43mself\u001b[39;49m\u001b[38;5;241;43m.\u001b[39;49m\u001b[43mdataset\u001b[49m\u001b[43m[\u001b[49m\u001b[43midx\u001b[49m\u001b[43m]\u001b[49m \u001b[38;5;28;01mfor\u001b[39;00m idx \u001b[38;5;129;01min\u001b[39;00m possibly_batched_index]\n\u001b[0;32m     52\u001b[0m \u001b[38;5;28;01melse\u001b[39;00m:\n\u001b[0;32m     53\u001b[0m     data \u001b[38;5;241m=\u001b[39m \u001b[38;5;28mself\u001b[39m\u001b[38;5;241m.\u001b[39mdataset[possibly_batched_index]\n",
            "Cell \u001b[1;32mIn[3], line 29\u001b[0m, in \u001b[0;36mMyDataset.__getitem__\u001b[1;34m(self, idx)\u001b[0m\n\u001b[0;32m     26\u001b[0m \u001b[38;5;28;01massert\u001b[39;00m \u001b[38;5;28mlen\u001b[39m(labels) \u001b[38;5;241m==\u001b[39m \u001b[38;5;28mself\u001b[39m\u001b[38;5;241m.\u001b[39mT\n\u001b[0;32m     28\u001b[0m \u001b[38;5;66;03m# convert the sentence to one hot encoding\u001b[39;00m\n\u001b[1;32m---> 29\u001b[0m sentence \u001b[38;5;241m=\u001b[39m \u001b[43mconvert_sentence_to_vector\u001b[49m\u001b[43m(\u001b[49m\u001b[43msentence\u001b[49m\u001b[43m)\u001b[49m\n\u001b[0;32m     31\u001b[0m \u001b[38;5;66;03m# convert the labels to one hot encoding\u001b[39;00m\n\u001b[0;32m     32\u001b[0m labels \u001b[38;5;241m=\u001b[39m convert_labels_to_vector(labels)\n",
            "File \u001b[1;32md:\\Engineering\\Fourth_Year\\First_Term\\NLP\\Project\\Arabic_Text_Diacritization\\utilities.py:151\u001b[0m, in \u001b[0;36mconvert_sentence_to_vector\u001b[1;34m(sentence)\u001b[0m\n\u001b[0;32m    149\u001b[0m     char_vec \u001b[38;5;241m=\u001b[39m convert_char_to_vector(char)\n\u001b[0;32m    150\u001b[0m     sentence_vector\u001b[38;5;241m.\u001b[39mappend(char_vec)\n\u001b[1;32m--> 151\u001b[0m sentence_vector \u001b[38;5;241m=\u001b[39m  np\u001b[38;5;241m.\u001b[39marray(sentence_vector)\n\u001b[0;32m    152\u001b[0m \u001b[38;5;66;03m# print(\"sentence_vector\",sentence_vector.shape)\u001b[39;00m\n\u001b[0;32m    153\u001b[0m \u001b[38;5;28;01mreturn\u001b[39;00m sentence_vector\n",
            "\u001b[1;31mKeyboardInterrupt\u001b[0m: "
          ]
        }
      ],
      "source": [
        "# model.load_state_dict(torch.load('model1.pth'))\n",
        "optimizer = optim.Adam(model.parameters(), lr=0.001)\n",
        "model.train()\n",
        "debug = True\n",
        "for epoch in range(num_epochs):\n",
        "    scheduler.step()\n",
        "    for inputs, labels in train_dataloader:\n",
        "        # Zero the gradients\n",
        "        optimizer.zero_grad()\n",
        "        input = inputs.view(inputs.shape[0], -1, input_size)\n",
        "        input, labels = input.to(device), labels.to(device)\n",
        "\n",
        "        # Forward pass\n",
        "        output = model(input)\n",
        "        output = output.view(-1,15)\n",
        "        labels = labels.view(-1)\n",
        "\n",
        "        loss = criterion(output, labels)\n",
        "\n",
        "        # Backward pass and optimization\n",
        "        loss.backward()\n",
        "        torch.nn.utils.clip_grad_norm_(model.parameters(), 0.5)\n",
        "        optimizer.step()\n",
        "        # Print loss for monitoring\n",
        "        print(f\"Epoch: {epoch+1}, Batch Loss: {loss.item()}\")\n",
        "        # break\n",
        "\n",
        "\n"
      ]
    },
    {
      "cell_type": "code",
      "execution_count": null,
      "metadata": {
        "id": "8SNV43qrLnm5"
      },
      "outputs": [],
      "source": [
        "torch.save(model.state_dict(), 'model_1.pth')"
      ]
    },
    {
      "cell_type": "code",
      "execution_count": 11,
      "metadata": {
        "colab": {
          "base_uri": "https://localhost:8080/"
        },
        "id": "8vRIXIBq9JaV",
        "outputId": "8c468f4c-4a0a-4a6c-c28f-9b10a2fc08b8"
      },
      "outputs": [
        {
          "name": "stdout",
          "output_type": "stream",
          "text": [
            "Accuracy: 0.8640772346180862\n",
            "Accuracy: 0.862483589927199\n",
            "Accuracy: 0.8617083523414721\n",
            "Accuracy: 0.8622044875025386\n",
            "Accuracy: 0.8614400228773648\n",
            "Accuracy: 0.861373356721919\n",
            "Accuracy: 0.8609851185829954\n",
            "Accuracy: 0.861200781904496\n",
            "Accuracy: 0.8608187424565581\n",
            "Accuracy: 0.8609902733023034\n",
            "Accuracy: 0.8612244953494321\n",
            "Accuracy: 0.8611960400955839\n",
            "Accuracy: 0.8613701831993462\n",
            "Accuracy: 0.8609581656507862\n"
          ]
        },
        {
          "ename": "KeyboardInterrupt",
          "evalue": "",
          "output_type": "error",
          "traceback": [
            "\u001b[1;31m---------------------------------------------------------------------------\u001b[0m",
            "\u001b[1;31mKeyboardInterrupt\u001b[0m                         Traceback (most recent call last)",
            "Cell \u001b[1;32mIn[11], line 11\u001b[0m\n\u001b[0;32m      8\u001b[0m total \u001b[38;5;241m=\u001b[39m \u001b[38;5;241m0\u001b[39m\n\u001b[0;32m     10\u001b[0m \u001b[38;5;28;01mwith\u001b[39;00m torch\u001b[38;5;241m.\u001b[39mno_grad():\n\u001b[1;32m---> 11\u001b[0m \u001b[43m  \u001b[49m\u001b[38;5;28;43;01mfor\u001b[39;49;00m\u001b[43m \u001b[49m\u001b[43minputs\u001b[49m\u001b[43m,\u001b[49m\u001b[43m \u001b[49m\u001b[43mlabels\u001b[49m\u001b[43m \u001b[49m\u001b[38;5;129;43;01min\u001b[39;49;00m\u001b[43m \u001b[49m\u001b[43mtrain_dataloader\u001b[49m\u001b[43m:\u001b[49m\n\u001b[0;32m     12\u001b[0m \u001b[43m      \u001b[49m\u001b[38;5;66;43;03m# Forward pass\u001b[39;49;00m\n\u001b[0;32m     13\u001b[0m \u001b[43m      \u001b[49m\u001b[43mhidden\u001b[49m\u001b[43m \u001b[49m\u001b[38;5;241;43m=\u001b[39;49m\u001b[43m \u001b[49m\u001b[43mmodel\u001b[49m\u001b[38;5;241;43m.\u001b[39;49m\u001b[43minit_hidden\u001b[49m\u001b[43m(\u001b[49m\u001b[43mbatch_size\u001b[49m\u001b[38;5;241;43m=\u001b[39;49m\u001b[43minputs\u001b[49m\u001b[38;5;241;43m.\u001b[39;49m\u001b[43mshape\u001b[49m\u001b[43m[\u001b[49m\u001b[38;5;241;43m0\u001b[39;49m\u001b[43m]\u001b[49m\u001b[43m)\u001b[49m\n\u001b[0;32m     14\u001b[0m \u001b[43m      \u001b[49m\u001b[43mhidden\u001b[49m\u001b[43m \u001b[49m\u001b[38;5;241;43m=\u001b[39;49m\u001b[43m \u001b[49m\u001b[43mhidden\u001b[49m\u001b[38;5;241;43m.\u001b[39;49m\u001b[43mto\u001b[49m\u001b[43m(\u001b[49m\u001b[43mdevice\u001b[49m\u001b[43m)\u001b[49m\n",
            "File \u001b[1;32md:\\anaconda3\\envs\\pt\\Lib\\site-packages\\torch\\utils\\data\\dataloader.py:630\u001b[0m, in \u001b[0;36m_BaseDataLoaderIter.__next__\u001b[1;34m(self)\u001b[0m\n\u001b[0;32m    627\u001b[0m \u001b[38;5;28;01mif\u001b[39;00m \u001b[38;5;28mself\u001b[39m\u001b[38;5;241m.\u001b[39m_sampler_iter \u001b[38;5;129;01mis\u001b[39;00m \u001b[38;5;28;01mNone\u001b[39;00m:\n\u001b[0;32m    628\u001b[0m     \u001b[38;5;66;03m# TODO(https://github.com/pytorch/pytorch/issues/76750)\u001b[39;00m\n\u001b[0;32m    629\u001b[0m     \u001b[38;5;28mself\u001b[39m\u001b[38;5;241m.\u001b[39m_reset()  \u001b[38;5;66;03m# type: ignore[call-arg]\u001b[39;00m\n\u001b[1;32m--> 630\u001b[0m data \u001b[38;5;241m=\u001b[39m \u001b[38;5;28;43mself\u001b[39;49m\u001b[38;5;241;43m.\u001b[39;49m\u001b[43m_next_data\u001b[49m\u001b[43m(\u001b[49m\u001b[43m)\u001b[49m\n\u001b[0;32m    631\u001b[0m \u001b[38;5;28mself\u001b[39m\u001b[38;5;241m.\u001b[39m_num_yielded \u001b[38;5;241m+\u001b[39m\u001b[38;5;241m=\u001b[39m \u001b[38;5;241m1\u001b[39m\n\u001b[0;32m    632\u001b[0m \u001b[38;5;28;01mif\u001b[39;00m \u001b[38;5;28mself\u001b[39m\u001b[38;5;241m.\u001b[39m_dataset_kind \u001b[38;5;241m==\u001b[39m _DatasetKind\u001b[38;5;241m.\u001b[39mIterable \u001b[38;5;129;01mand\u001b[39;00m \\\n\u001b[0;32m    633\u001b[0m         \u001b[38;5;28mself\u001b[39m\u001b[38;5;241m.\u001b[39m_IterableDataset_len_called \u001b[38;5;129;01mis\u001b[39;00m \u001b[38;5;129;01mnot\u001b[39;00m \u001b[38;5;28;01mNone\u001b[39;00m \u001b[38;5;129;01mand\u001b[39;00m \\\n\u001b[0;32m    634\u001b[0m         \u001b[38;5;28mself\u001b[39m\u001b[38;5;241m.\u001b[39m_num_yielded \u001b[38;5;241m>\u001b[39m \u001b[38;5;28mself\u001b[39m\u001b[38;5;241m.\u001b[39m_IterableDataset_len_called:\n",
            "File \u001b[1;32md:\\anaconda3\\envs\\pt\\Lib\\site-packages\\torch\\utils\\data\\dataloader.py:674\u001b[0m, in \u001b[0;36m_SingleProcessDataLoaderIter._next_data\u001b[1;34m(self)\u001b[0m\n\u001b[0;32m    672\u001b[0m \u001b[38;5;28;01mdef\u001b[39;00m \u001b[38;5;21m_next_data\u001b[39m(\u001b[38;5;28mself\u001b[39m):\n\u001b[0;32m    673\u001b[0m     index \u001b[38;5;241m=\u001b[39m \u001b[38;5;28mself\u001b[39m\u001b[38;5;241m.\u001b[39m_next_index()  \u001b[38;5;66;03m# may raise StopIteration\u001b[39;00m\n\u001b[1;32m--> 674\u001b[0m     data \u001b[38;5;241m=\u001b[39m \u001b[38;5;28;43mself\u001b[39;49m\u001b[38;5;241;43m.\u001b[39;49m\u001b[43m_dataset_fetcher\u001b[49m\u001b[38;5;241;43m.\u001b[39;49m\u001b[43mfetch\u001b[49m\u001b[43m(\u001b[49m\u001b[43mindex\u001b[49m\u001b[43m)\u001b[49m  \u001b[38;5;66;03m# may raise StopIteration\u001b[39;00m\n\u001b[0;32m    675\u001b[0m     \u001b[38;5;28;01mif\u001b[39;00m \u001b[38;5;28mself\u001b[39m\u001b[38;5;241m.\u001b[39m_pin_memory:\n\u001b[0;32m    676\u001b[0m         data \u001b[38;5;241m=\u001b[39m _utils\u001b[38;5;241m.\u001b[39mpin_memory\u001b[38;5;241m.\u001b[39mpin_memory(data, \u001b[38;5;28mself\u001b[39m\u001b[38;5;241m.\u001b[39m_pin_memory_device)\n",
            "File \u001b[1;32md:\\anaconda3\\envs\\pt\\Lib\\site-packages\\torch\\utils\\data\\_utils\\fetch.py:51\u001b[0m, in \u001b[0;36m_MapDatasetFetcher.fetch\u001b[1;34m(self, possibly_batched_index)\u001b[0m\n\u001b[0;32m     49\u001b[0m         data \u001b[38;5;241m=\u001b[39m \u001b[38;5;28mself\u001b[39m\u001b[38;5;241m.\u001b[39mdataset\u001b[38;5;241m.\u001b[39m__getitems__(possibly_batched_index)\n\u001b[0;32m     50\u001b[0m     \u001b[38;5;28;01melse\u001b[39;00m:\n\u001b[1;32m---> 51\u001b[0m         data \u001b[38;5;241m=\u001b[39m \u001b[43m[\u001b[49m\u001b[38;5;28;43mself\u001b[39;49m\u001b[38;5;241;43m.\u001b[39;49m\u001b[43mdataset\u001b[49m\u001b[43m[\u001b[49m\u001b[43midx\u001b[49m\u001b[43m]\u001b[49m\u001b[43m \u001b[49m\u001b[38;5;28;43;01mfor\u001b[39;49;00m\u001b[43m \u001b[49m\u001b[43midx\u001b[49m\u001b[43m \u001b[49m\u001b[38;5;129;43;01min\u001b[39;49;00m\u001b[43m \u001b[49m\u001b[43mpossibly_batched_index\u001b[49m\u001b[43m]\u001b[49m\n\u001b[0;32m     52\u001b[0m \u001b[38;5;28;01melse\u001b[39;00m:\n\u001b[0;32m     53\u001b[0m     data \u001b[38;5;241m=\u001b[39m \u001b[38;5;28mself\u001b[39m\u001b[38;5;241m.\u001b[39mdataset[possibly_batched_index]\n",
            "File \u001b[1;32md:\\anaconda3\\envs\\pt\\Lib\\site-packages\\torch\\utils\\data\\_utils\\fetch.py:51\u001b[0m, in \u001b[0;36m<listcomp>\u001b[1;34m(.0)\u001b[0m\n\u001b[0;32m     49\u001b[0m         data \u001b[38;5;241m=\u001b[39m \u001b[38;5;28mself\u001b[39m\u001b[38;5;241m.\u001b[39mdataset\u001b[38;5;241m.\u001b[39m__getitems__(possibly_batched_index)\n\u001b[0;32m     50\u001b[0m     \u001b[38;5;28;01melse\u001b[39;00m:\n\u001b[1;32m---> 51\u001b[0m         data \u001b[38;5;241m=\u001b[39m [\u001b[38;5;28;43mself\u001b[39;49m\u001b[38;5;241;43m.\u001b[39;49m\u001b[43mdataset\u001b[49m\u001b[43m[\u001b[49m\u001b[43midx\u001b[49m\u001b[43m]\u001b[49m \u001b[38;5;28;01mfor\u001b[39;00m idx \u001b[38;5;129;01min\u001b[39;00m possibly_batched_index]\n\u001b[0;32m     52\u001b[0m \u001b[38;5;28;01melse\u001b[39;00m:\n\u001b[0;32m     53\u001b[0m     data \u001b[38;5;241m=\u001b[39m \u001b[38;5;28mself\u001b[39m\u001b[38;5;241m.\u001b[39mdataset[possibly_batched_index]\n",
            "Cell \u001b[1;32mIn[3], line 29\u001b[0m, in \u001b[0;36mMyDataset.__getitem__\u001b[1;34m(self, idx)\u001b[0m\n\u001b[0;32m     26\u001b[0m \u001b[38;5;28;01massert\u001b[39;00m \u001b[38;5;28mlen\u001b[39m(labels) \u001b[38;5;241m==\u001b[39m \u001b[38;5;28mself\u001b[39m\u001b[38;5;241m.\u001b[39mT\n\u001b[0;32m     28\u001b[0m \u001b[38;5;66;03m# convert the sentence to one hot encoding\u001b[39;00m\n\u001b[1;32m---> 29\u001b[0m sentence \u001b[38;5;241m=\u001b[39m \u001b[43mconvert_sentence_to_vector\u001b[49m\u001b[43m(\u001b[49m\u001b[43msentence\u001b[49m\u001b[43m)\u001b[49m\n\u001b[0;32m     31\u001b[0m \u001b[38;5;66;03m# convert the labels to one hot encoding\u001b[39;00m\n\u001b[0;32m     32\u001b[0m labels \u001b[38;5;241m=\u001b[39m convert_labels_to_vector(labels)\n",
            "File \u001b[1;32md:\\Engineering\\Fourth_Year\\First_Term\\NLP\\Project\\Arabic_Text_Diacritization\\utilities.py:151\u001b[0m, in \u001b[0;36mconvert_sentence_to_vector\u001b[1;34m(sentence)\u001b[0m\n\u001b[0;32m    149\u001b[0m     char_vec \u001b[38;5;241m=\u001b[39m convert_char_to_vector(char)\n\u001b[0;32m    150\u001b[0m     sentence_vector\u001b[38;5;241m.\u001b[39mappend(char_vec)\n\u001b[1;32m--> 151\u001b[0m sentence_vector \u001b[38;5;241m=\u001b[39m  np\u001b[38;5;241m.\u001b[39marray(sentence_vector)\n\u001b[0;32m    152\u001b[0m \u001b[38;5;66;03m# print(\"sentence_vector\",sentence_vector.shape)\u001b[39;00m\n\u001b[0;32m    153\u001b[0m \u001b[38;5;28;01mreturn\u001b[39;00m sentence_vector\n",
            "\u001b[1;31mKeyboardInterrupt\u001b[0m: "
          ]
        }
      ],
      "source": [
        "# Set the model to evaluation mode\n",
        "# model.load_state_dict(torch.load('model1.pth'))\n",
        "model.eval()\n",
        "\n",
        "correct = 0\n",
        "correct_prediction = 0\n",
        "total_predictions = 0\n",
        "total = 0\n",
        "\n",
        "with torch.no_grad():\n",
        "  for inputs, labels in train_dataloader:\n",
        "      # Forward pass\n",
        "      hidden = model.init_hidden(batch_size=inputs.shape[0])\n",
        "      hidden = hidden.to(device)\n",
        "      inputs ,labels = inputs.to(device),labels.to(device)\n",
        "\n",
        "      outputs = model(inputs)\n",
        "      outputs = outputs.view(-1, output_size)\n",
        "      labels = labels.view(-1)\n",
        "\n",
        "      # get predictions in each time step as index\n",
        "      _, predicted = torch.max(outputs.data, 1)\n",
        "\n",
        "      # cut the padding \n",
        "      predicted = predicted[labels != 15]\n",
        "      labels = labels[labels != 15]\n",
        "      \n",
        "      # Compute accuracy\n",
        "      correct += (predicted == labels).sum().item()\n",
        "      total += labels.size(0) \n",
        "      print(f\"Accuracy: {correct/total}\")\n",
        "      \n",
        "\n",
        "\n",
        "print(f\"Accuracy: {correct/total}\")"
      ]
    },
    {
      "cell_type": "code",
      "execution_count": null,
      "metadata": {},
      "outputs": [
        {
          "data": {
            "text/plain": [
              "717"
            ]
          },
          "execution_count": 18,
          "metadata": {},
          "output_type": "execute_result"
        }
      ],
      "source": [
        "# clear the memory of the GPU\n",
        "import gc\n",
        "torch.cuda.empty_cache()\n",
        "gc.collect()"
      ]
    }
  ],
  "metadata": {
    "accelerator": "GPU",
    "colab": {
      "provenance": []
    },
    "kernelspec": {
      "display_name": "Python 3",
      "name": "python3"
    },
    "language_info": {
      "codemirror_mode": {
        "name": "ipython",
        "version": 3
      },
      "file_extension": ".py",
      "mimetype": "text/x-python",
      "name": "python",
      "nbconvert_exporter": "python",
      "pygments_lexer": "ipython3",
      "version": "3.11.6"
    }
  },
  "nbformat": 4,
  "nbformat_minor": 0
}
