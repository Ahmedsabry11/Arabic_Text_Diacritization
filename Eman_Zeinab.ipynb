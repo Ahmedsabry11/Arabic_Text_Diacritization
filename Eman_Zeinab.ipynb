{
  "cells": [
    {
      "cell_type": "code",
      "execution_count": 1,
      "metadata": {
        "id": "xgGXFlxX5LaL"
      },
      "outputs": [],
      "source": [
        "# !pip install --upgrade pip\n",
        "# !pip install gensim\n",
        "# !pip install nltk\n",
        "# !pip install tokenizers\n",
        "# !pip install sentencepiece\n",
        "# !pip install python-bidi\n",
        "# !pip install arabic-reshaper\n",
        "# !pip install PyArabic"
      ]
    },
    {
      "cell_type": "code",
      "execution_count": 2,
      "metadata": {
        "id": "YEM7ifye8rFY"
      },
      "outputs": [],
      "source": [
        "import torch\n",
        "import torch.nn as nn\n",
        "import torch.optim as optim\n",
        "from torch.utils.data import Dataset, DataLoader\n",
        "from torchvision.transforms import ToTensor\n",
        "# from WordFeatureExtraction import WordFeatureExtraction\n",
        "import pandas as pd\n",
        "from pyarabic.araby import tokenize, strip_tashkeel\n",
        "from tqdm import tqdm\n",
        "\n",
        "from sklearn.metrics import accuracy_score\n",
        "import numpy as np\n",
        "from utilities import *\n",
        "import textProcessing as tp\n",
        "import nltk\n",
        "# nltk.download('punkt')\n",
        "# train_text = load_text(\"dataset/train.txt\")\n",
        "# tp.preprocessing_text(train_text,\"train_preprocessed.txt\")\n"
      ]
    },
    {
      "cell_type": "code",
      "execution_count": 3,
      "metadata": {
        "id": "-p8FDs_4i_5-"
      },
      "outputs": [],
      "source": [
        "from gensim.models import Word2Vec\n",
        "# CBOW model\n",
        "class WordFeatureExtraction():\n",
        "\n",
        "    def __init__(self, tokenized_texts,embedding_dim = 300,window_size = 5,min_count = 1,epoches=5,alpha=0.001):\n",
        "        self.tokenized_texts=tokenized_texts\n",
        "        self.embedding_dim = embedding_dim\n",
        "        self.window_size = window_size\n",
        "        self.min_count = min_count\n",
        "        self.epoches=epoches\n",
        "        self.alpha=alpha\n",
        "\n",
        "    def map_words_to_vectors(self,input_list, word_vector_dict):\n",
        "        output = []\n",
        "        for inner_list in input_list:\n",
        "            inner_output = {}\n",
        "            for word in inner_list:\n",
        "                if word in word_vector_dict:\n",
        "                    inner_output[word] = word_vector_dict[word]\n",
        "            if inner_output:\n",
        "                output.append(inner_output)\n",
        "        return output\n",
        "\n",
        "    def CBOW_train(self):\n",
        "      self.cbow_model = Word2Vec(sentences=self.tokenized_texts, vector_size=self.embedding_dim, window=self.window_size, sg=0, min_count=self.min_count)\n",
        "\n",
        "    def CBOW(self):\n",
        "        return self.map_words_to_vectors(self.tokenized_texts,self.cbow_model.wv)\n"
      ]
    },
    {
      "cell_type": "code",
      "execution_count": 4,
      "metadata": {
        "id": "B8AsGJmbjtWr"
      },
      "outputs": [],
      "source": [
        "import torch\n",
        "import torch.nn as nn\n",
        "import torch.nn.functional as F\n",
        "\n",
        "class CharLevelEncoder(nn.Module):\n",
        "    def __init__(self, word_embedding_dim, char_embedding_dim, hidden_dim,num_embeddings):\n",
        "        \"\"\"\n",
        "        Initialize the CharLevelEncoder module.\n",
        "\n",
        "        Args:\n",
        "        - word_embedding_dim (int): Dimensionality of word embeddings.\n",
        "        - char_embedding_dim (int): Dimensionality of character embeddings.\n",
        "        - hidden_dim (int): Dimensionality of the hidden state in the LSTM.\n",
        "        - num_embeddings (int): Number of unique characters to learn embeddings for.\n",
        "        \"\"\"\n",
        "        super(CharLevelEncoder, self).__init__()\n",
        "        self.word_embedding_dim = word_embedding_dim\n",
        "\n",
        "        # Character-level embeddings\n",
        "        self.char_embedding = nn.Embedding(num_embeddings=num_embeddings, embedding_dim=char_embedding_dim)  # Example: ASCII character range\n",
        "\n",
        "        # LSTM for character-level information\n",
        "        self.char_lstm = nn.LSTM(input_size=char_embedding_dim, hidden_size=hidden_dim, batch_first=True)\n",
        "\n",
        "        # Linear layer for combining word and character embeddings\n",
        "        self.linear = nn.Linear(word_embedding_dim + hidden_dim, word_embedding_dim)  # Adjust output dimensions\n",
        "\n",
        "    def forward(self, word_embeddings):\n",
        "        \"\"\"\n",
        "        Forward pass of the CharLevelEncoder to generate character-level embeddings for words.\n",
        "\n",
        "        Args:\n",
        "        - word_embeddings (list): List of dictionaries containing word embeddings.\n",
        "\n",
        "        Returns:\n",
        "        - char_embeddings_list (list): List of sentences, each containing character embeddings for words.\n",
        "        \"\"\"\n",
        "\n",
        "        all_sentence_list = []\n",
        "        for word_dict in word_embeddings:\n",
        "                    sentence_char_list = []\n",
        "                    for word, word_embedding in word_dict.items():\n",
        "                        arabic_word_chars = list(word)\n",
        "\n",
        "                        char_indices = [ord(char) for char in arabic_word_chars]\n",
        "\n",
        "\n",
        "                         # Convert word embedding to tensor\n",
        "                        word_embedding_tensor = torch.tensor(word_embedding, dtype=torch.float32)\n",
        "                        word_embedding_tensor = word_embedding_tensor.view(1,-1)\n",
        "                        word_embedding_tensor = word_embedding_tensor.expand(len(arabic_word_chars),-1)\n",
        "\n",
        "\n",
        "                        # Get character-level embeddings\n",
        "\n",
        "                        char_embedded = self.char_embedding(torch.tensor(char_indices))\n",
        "\n",
        "                        # Reshape char_embedded for LSTM input\n",
        "                        char_embedded = char_embedded.view(len(arabic_word_chars), 1,-1)\n",
        "\n",
        "                        # Get character-level LSTM output\n",
        "                        _, (hidden, _) = self.char_lstm(char_embedded)\n",
        "\n",
        "                        # Concatenate word and character embeddings\n",
        "                        # print( word_embedding_tensor.shape,\"hell\")\n",
        "\n",
        "\n",
        "                        combined = torch.cat((word_embedding_tensor, hidden.squeeze(0)), dim=1)\n",
        "                        # Apply linear layer to combine embeddings\n",
        "                        combined = F.relu(self.linear(combined))\n",
        "                        combined_reshaped = combined.view(-1, combined.size(-1))\n",
        "\n",
        "                        char_embedding_dict = {}\n",
        "                        for idx, char_idx in enumerate(char_indices):\n",
        "                            char_embedding_dict[arabic_word_chars[idx]] = combined_reshaped[idx].tolist()\n",
        "                        sentence_char_list.append(char_embedding_dict)\n",
        "\n",
        "                    all_sentence_list.append(sentence_char_list)\n",
        "\n",
        "        return sentence_char_list"
      ]
    },
    {
      "cell_type": "code",
      "execution_count": 5,
      "metadata": {
        "id": "lD-S_MLObBmY"
      },
      "outputs": [],
      "source": [
        "class Embedding_Dataset(Dataset):\n",
        "    def __init__(self):\n",
        "        self.data = load_text(\"dataset/train_preprocessed.txt\")\n",
        "        self.CharEmbedding=CharLevelEncoder(word_embedding_dim=300, char_embedding_dim=5, hidden_dim=10,num_embeddings=1611)\n",
        "\n",
        "    def __len__(self):\n",
        "        return len(self.data)\n",
        "\n",
        "    def __getitem__(self, idx):\n",
        "\n",
        "        sentence = self.data[idx]\n",
        "        # extract the label\n",
        "        labels = tp.extract_diacritics_with_previous_letter(sentence)\n",
        "\n",
        "        # remove the label from the sentence\n",
        "        sentence = tp.clear_diacritics(sentence)\n",
        "        tokens = [\n",
        "                strip_tashkeel(t)\n",
        "                for t in tokenize(sentence)\n",
        "            ]\n",
        "        return tokens,labels\n",
        "\n",
        "\n",
        "    def collate_fn(self, batch):\n",
        "          processed_sentences = []\n",
        "          processed_labels = []\n",
        "          for sentence, labels in batch:\n",
        "              processed_sentences.append(sentence)\n",
        "              processed_labels.append(labels)\n",
        "          return processed_sentences, processed_labels\n",
        "\n",
        "    def extract_sentences_word_embedding(self,train_dataloader):\n",
        "      charEmbeddingVectors=[]\n",
        "      labels_batches=[]\n",
        "      for batch_idx, (batch_sentences, batch_labels) in enumerate(train_dataloader):\n",
        "          wordEmbedding=WordFeatureExtraction(batch_sentences)\n",
        "          wordEmbedding.CBOW_train()\n",
        "          wordEmbeddingVector=wordEmbedding.CBOW()\n",
        "          charEmbeddingVector=self.CharEmbedding(wordEmbeddingVector)\n",
        "          charEmbeddingVectors.append(charEmbeddingVector)\n",
        "          labels_batches.append(batch_labels)\n",
        "\n",
        "      return charEmbeddingVectors ,labels_batches"
      ]
    },
    {
      "cell_type": "code",
      "execution_count": 6,
      "metadata": {
        "id": "XKO8iwvm85dF"
      },
      "outputs": [],
      "source": [
        "class RNNClassifier(nn.Module):\n",
        "    def __init__(self, input_size, hidden_size, output_size):\n",
        "        super(RNNClassifier, self).__init__()\n",
        "\n",
        "        self.hidden_size = hidden_size\n",
        "        self.input_size = input_size\n",
        "        # self.wordEmbedding=WordFeatureExtraction()\n",
        "        self.rnn = nn.RNN(input_size, hidden_size, batch_first=True)\n",
        "        # self.out = nn.Sequential(nn.Linear(hidden_size, 64),nn.Tanh(),nn.Linear(64, output_size),nn.Softmax(dim=1))\n",
        "        self.linear1 = nn.Linear(hidden_size, 64)\n",
        "        self.tanh = nn.Tanh()\n",
        "        self.linear2 = nn.Linear(64, output_size)\n",
        "        # self.soft = nn.Softmax(dim=1)\n",
        "        # self.out = nn.Sequential(nn.Linear(hidden_size, output_size),nn.Softmax())\n",
        "        self.init_weight()\n",
        "\n",
        "    def forward(self, input, hidden):\n",
        "\n",
        "        output, hidden = self.rnn(input, hidden)\n",
        "        # reshape the output to be able to pass it to the linear layer\n",
        "        # output = output.contiguous().view(-1, self.hidden_size)\n",
        "        output = self.linear1(output)\n",
        "        output = self.tanh(output)\n",
        "        output = self.linear2(output)\n",
        "        # output = self.soft(output)\n",
        "        return output\n",
        "\n",
        "    def init_hidden(self, batch_size):\n",
        "        return torch.zeros(1,batch_size, self.hidden_size)\n",
        "    def init_weight(self):\n",
        "        for name, param in self.named_parameters():\n",
        "            if 'bias' in name:\n",
        "                nn.init.constant(param, 0.0)\n",
        "            elif 'weight' in name:\n",
        "                nn.init.xavier_normal(param)"
      ]
    },
    {
      "cell_type": "code",
      "execution_count": 7,
      "metadata": {
        "id": "V2Ds4I8_88bp"
      },
      "outputs": [],
      "source": [
        "# Hyperparameter\n",
        "input_size = 38\n",
        "hidden_size = 64\n",
        "output_size = 15\n",
        "batch_size = 1024*8\n",
        "num_epochs = 50"
      ]
    },
    {
      "cell_type": "code",
      "execution_count": 8,
      "metadata": {
        "colab": {
          "base_uri": "https://localhost:8080/"
        },
        "id": "z7kWDtDX8_62",
        "outputId": "b552eb62-226d-4545-a2a5-f0ec5581eafb"
      },
      "outputs": [
        {
          "name": "stdout",
          "output_type": "stream",
          "text": [
            "cuda:0\n",
            "True\n",
            "1\n"
          ]
        },
        {
          "name": "stderr",
          "output_type": "stream",
          "text": [
            "<ipython-input-6-d5a475f5a635>:35: UserWarning: nn.init.xavier_normal is now deprecated in favor of nn.init.xavier_normal_.\n",
            "  nn.init.xavier_normal(param)\n",
            "<ipython-input-6-d5a475f5a635>:33: UserWarning: nn.init.constant is now deprecated in favor of nn.init.constant_.\n",
            "  nn.init.constant(param, 0.0)\n"
          ]
        }
      ],
      "source": [
        "# connect to GPU if available\n",
        "device = torch.device(\"cuda:0\" if torch.cuda.is_available() else \"cpu\")\n",
        "print(device)\n",
        "print(torch.cuda.is_available())\n",
        "print(torch.cuda.device_count())\n",
        "\n",
        "# Create an instance of the RNN classifier\n",
        "model = RNNClassifier(input_size, hidden_size, output_size)\n",
        "model.to(device)\n",
        "#######################################################################################\n",
        "Embedding_Dataset=Embedding_Dataset()\n",
        "train_dataloader = DataLoader(Embedding_Dataset, batch_size=1024*8, shuffle=True, collate_fn=Embedding_Dataset.collate_fn)\n",
        "wordEmbeddingVectors ,labels_batches = Embedding_Dataset.extract_sentences_word_embedding(train_dataloader)\n",
        "#########################################################################################\n",
        "# Define loss function and optimizer\n",
        "criterion = nn.CrossEntropyLoss()\n",
        "optimizer = optim.Adam(model.parameters(), lr=0.005)"
      ]
    },
    {
      "cell_type": "code",
      "execution_count": 9,
      "metadata": {
        "colab": {
          "base_uri": "https://localhost:8080/",
          "height": 245
        },
        "id": "GxGWIp9w9EZL",
        "outputId": "89b02694-fab0-4ee1-be5b-0ae003c07f32"
      },
      "outputs": [
        {
          "ename": "AttributeError",
          "evalue": "ignored",
          "output_type": "error",
          "traceback": [
            "\u001b[0;31m---------------------------------------------------------------------------\u001b[0m",
            "\u001b[0;31mAttributeError\u001b[0m                            Traceback (most recent call last)",
            "\u001b[0;32m<ipython-input-9-3879dcf14ac7>\u001b[0m in \u001b[0;36m<cell line: 3>\u001b[0;34m()\u001b[0m\n\u001b[1;32m      4\u001b[0m     \u001b[0;32mfor\u001b[0m \u001b[0minputs\u001b[0m\u001b[0;34m,\u001b[0m \u001b[0mlabels\u001b[0m \u001b[0;32min\u001b[0m \u001b[0mtrain_dataloader\u001b[0m\u001b[0;34m:\u001b[0m\u001b[0;34m\u001b[0m\u001b[0;34m\u001b[0m\u001b[0m\n\u001b[1;32m      5\u001b[0m       \u001b[0;31m# Reshape input and labels to (batch_size, seq_length, input_size)\u001b[0m\u001b[0;34m\u001b[0m\u001b[0;34m\u001b[0m\u001b[0m\n\u001b[0;32m----> 6\u001b[0;31m       \u001b[0minput\u001b[0m \u001b[0;34m=\u001b[0m \u001b[0minputs\u001b[0m\u001b[0;34m.\u001b[0m\u001b[0mview\u001b[0m\u001b[0;34m(\u001b[0m\u001b[0minputs\u001b[0m\u001b[0;34m.\u001b[0m\u001b[0mshape\u001b[0m\u001b[0;34m[\u001b[0m\u001b[0;36m0\u001b[0m\u001b[0;34m]\u001b[0m\u001b[0;34m,\u001b[0m \u001b[0;34m-\u001b[0m\u001b[0;36m1\u001b[0m\u001b[0;34m,\u001b[0m \u001b[0minput_size\u001b[0m\u001b[0;34m)\u001b[0m\u001b[0;34m\u001b[0m\u001b[0;34m\u001b[0m\u001b[0m\n\u001b[0m\u001b[1;32m      7\u001b[0m       \u001b[0mlabels\u001b[0m \u001b[0;34m=\u001b[0m \u001b[0mlabels\u001b[0m\u001b[0;34m.\u001b[0m\u001b[0mview\u001b[0m\u001b[0;34m(\u001b[0m\u001b[0minputs\u001b[0m\u001b[0;34m.\u001b[0m\u001b[0mshape\u001b[0m\u001b[0;34m[\u001b[0m\u001b[0;36m0\u001b[0m\u001b[0;34m]\u001b[0m\u001b[0;34m,\u001b[0m \u001b[0;34m-\u001b[0m\u001b[0;36m1\u001b[0m\u001b[0;34m,\u001b[0m \u001b[0moutput_size\u001b[0m\u001b[0;34m)\u001b[0m\u001b[0;34m\u001b[0m\u001b[0;34m\u001b[0m\u001b[0m\n\u001b[1;32m      8\u001b[0m       \u001b[0minput\u001b[0m\u001b[0;34m,\u001b[0m \u001b[0mlabels\u001b[0m \u001b[0;34m=\u001b[0m \u001b[0minput\u001b[0m\u001b[0;34m.\u001b[0m\u001b[0mto\u001b[0m\u001b[0;34m(\u001b[0m\u001b[0mdevice\u001b[0m\u001b[0;34m)\u001b[0m\u001b[0;34m,\u001b[0m \u001b[0mlabels\u001b[0m\u001b[0;34m.\u001b[0m\u001b[0mto\u001b[0m\u001b[0;34m(\u001b[0m\u001b[0mdevice\u001b[0m\u001b[0;34m)\u001b[0m\u001b[0;34m\u001b[0m\u001b[0;34m\u001b[0m\u001b[0m\n",
            "\u001b[0;31mAttributeError\u001b[0m: 'list' object has no attribute 'view'"
          ]
        }
      ],
      "source": [
        "# Training loop\n",
        "model.train()\n",
        "for epoch in range(num_epochs):\n",
        "    for inputs, labels in train_dataloader:\n",
        "      # Reshape input and labels to (batch_size, seq_length, input_size)\n",
        "      input = inputs.view(inputs.shape[0], -1, input_size)\n",
        "      labels = labels.view(inputs.shape[0], -1, output_size)\n",
        "      input, labels = input.to(device), labels.to(device)\n",
        "      hidden = model.init_hidden(batch_size=inputs.shape[0])\n",
        "      hidden = hidden.to(device)\n",
        "\n",
        "      # Forward pass\n",
        "      output = model(input, hidden)\n",
        "      # Compute loss\n",
        "      loss = criterion(output, labels)\n",
        "      # Zero the gradients\n",
        "      optimizer.zero_grad()\n",
        "      # Backward pass and optimization\n",
        "      loss.backward()\n",
        "      optimizer.step()\n",
        "      # Print loss for monitoring\n",
        "      print(f\"Epoch: {epoch+1}, Batch Loss: {loss.item()}\")\n",
        "\n"
      ]
    }
  ],
  "metadata": {
    "accelerator": "GPU",
    "colab": {
      "gpuType": "T4",
      "provenance": []
    },
    "kernelspec": {
      "display_name": "Python 3",
      "name": "python3"
    },
    "language_info": {
      "codemirror_mode": {
        "name": "ipython",
        "version": 3
      },
      "file_extension": ".py",
      "mimetype": "text/x-python",
      "name": "python",
      "nbconvert_exporter": "python",
      "pygments_lexer": "ipython3",
      "version": "3.10.9"
    }
  },
  "nbformat": 4,
  "nbformat_minor": 0
}
