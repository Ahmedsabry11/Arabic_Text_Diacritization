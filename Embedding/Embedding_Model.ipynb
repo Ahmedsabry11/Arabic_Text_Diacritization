{
  "nbformat": 4,
  "nbformat_minor": 0,
  "metadata": {
    "colab": {
      "provenance": []
    },
    "kernelspec": {
      "name": "python3",
      "display_name": "Python 3"
    },
    "language_info": {
      "name": "python"
    }
  },
  "cells": [
    {
      "cell_type": "code",
      "execution_count": null,
      "metadata": {
        "id": "Qd5IuOVjtji3"
      },
      "outputs": [],
      "source": [
        "# !pip install --upgrade pip\n",
        "# !pip install gensim\n",
        "# !pip install nltk\n",
        "# !pip install tokenizers\n",
        "# !pip install sentencepiece\n",
        "# !pip install python-bidi\n",
        "# !pip install arabic-reshaper\n",
        "# !pip install PyArabic\n",
        "# !pip install spacy"
      ]
    },
    {
      "cell_type": "code",
      "source": [
        "import torch\n",
        "import torch.nn as nn\n",
        "import torch.optim as optim\n",
        "from torch.utils.data import Dataset, DataLoader\n",
        "from torchvision.transforms import ToTensor\n",
        "# from WordFeatureExtraction import WordFeatureExtraction\n",
        "import pandas as pd\n",
        "from pyarabic.araby import tokenize, strip_tashkeel\n",
        "from tqdm import tqdm\n",
        "\n",
        "from sklearn.metrics import accuracy_score\n",
        "import numpy as np\n",
        "from utilities import *\n",
        "import textProcessing as tp\n",
        "import nltk\n",
        "from Embedding_Dataset import Embedding_Dataset\n",
        "# nltk.download('punkt')\n",
        "# train_text = load_text(\"dataset/train.txt\")\n",
        "# tp.preprocessing_text(train_text,\"train_preprocessed.txt\")\n"
      ],
      "metadata": {
        "colab": {
          "base_uri": "https://localhost:8080/"
        },
        "id": "GVof0I1Bvhfm",
        "outputId": "e4562a81-33bb-42b7-e62e-fb5f121bb7be"
      },
      "execution_count": 1,
      "outputs": [
        {
          "output_type": "stream",
          "name": "stdout",
          "text": [
            "DIACRITIC2INDEX:  dict_items([('ً', 0), ('ٌ', 1), ('ٍ', 2), ('َ', 3), ('ُ', 4), ('ِ', 5), ('ّ', 6), ('ًّ', 7), ('ٌّ', 8), ('ٍّ', 9), ('َّ', 10), ('ُّ', 11), ('ِّ', 12), ('ْ', 13), ('', 14), ('0', 15)])\n",
            "{'ً': 0, 'ٌ': 1, 'ٍ': 2, 'َ': 3, 'ُ': 4, 'ِ': 5, 'ّ': 6, 'ًّ': 7, 'ٌّ': 8, 'ٍّ': 9, 'َّ': 10, 'ُّ': 11, 'ِّ': 12, 'ْ': 13, '': 14, '0': 15}\n",
            "16\n",
            "{'ء': 0, 'آ': 1, 'أ': 2, 'ؤ': 3, 'إ': 4, 'ئ': 5, 'ا': 6, 'ب': 7, 'ة': 8, 'ت': 9, 'ث': 10, 'ج': 11, 'ح': 12, 'خ': 13, 'د': 14, 'ذ': 15, 'ر': 16, 'ز': 17, 'س': 18, 'ش': 19, 'ص': 20, 'ض': 21, 'ط': 22, 'ظ': 23, 'ع': 24, 'غ': 25, 'ف': 26, 'ق': 27, 'ك': 28, 'ل': 29, 'م': 30, 'ن': 31, 'ه': 32, 'و': 33, 'ى': 34, 'ي': 35, ' ': 36, '0': 37, 's': 38}\n",
            "39\n"
          ]
        }
      ]
    },
    {
      "cell_type": "code",
      "source": [
        "# Download via terminal commands\n",
        "# !wget \"https://archive.org/download/aravec2.0/tweet_cbow_300.zip\"\n",
        "# !unzip \"tweet_cbow_300.zip\""
      ],
      "metadata": {
        "id": "ilaf9_Jmxsg4"
      },
      "execution_count": null,
      "outputs": []
    },
    {
      "cell_type": "code",
      "source": [
        "# import gensim\n",
        "# from gensim.models import KeyedVectors\n",
        "# from gensim.models import word2vec\n",
        "# w2v_embeddings_index={}\n",
        "# TOTAL_EMBEDDING_DIM=300\n",
        "# w2v_model =KeyedVectors.load(\"tweets_cbow_300\")\n",
        "# for word in w2v_model.wv.index_to_key:\n",
        "#     w2v_embeddings_index[word] = w2v_model.wv.get_vector(word)\n",
        "# print(len(w2v_embeddings_index))"
      ],
      "metadata": {
        "colab": {
          "base_uri": "https://localhost:8080/"
        },
        "id": "epqhE9FC4UPx",
        "outputId": "05e32e3c-011c-4be2-9149-14307f90afa2"
      },
      "execution_count": 21,
      "outputs": [
        {
          "output_type": "stream",
          "name": "stdout",
          "text": [
            "331679\n"
          ]
        }
      ]
    },
    {
      "cell_type": "code",
      "source": [
        "# # create a weight matrix for words in training docs\n",
        "# embedding_matrix = np.zeros((vocab_size, TOTAL_EMBEDDING_DIM))\n",
        "# for word, i in t.word_index.items():\n",
        "#     embedding_vector = w2v_embeddings_index.get(word)\n",
        "#     if embedding_vector is not None:\n",
        "#         embedding_matrix[i] = embedding_vector\n",
        "# print(“Embedding Matrix shape:”, embedding_matrix.shape)"
      ],
      "metadata": {
        "id": "NGmcNKdO8Kk8"
      },
      "execution_count": null,
      "outputs": []
    },
    {
      "cell_type": "code",
      "source": [
        "class RNNClassifier(nn.Module):\n",
        "    def __init__(self, input_size, hidden_size, output_size):\n",
        "        super(RNNClassifier, self).__init__()\n",
        "\n",
        "        self.hidden_size = hidden_size\n",
        "        self.input_size = input_size\n",
        "        # self.wordEmbedding=WordFeatureExtraction()\n",
        "        self.rnn = nn.RNN(input_size, hidden_size, batch_first=True)\n",
        "        # self.out = nn.Sequential(nn.Linear(hidden_size, 64),nn.Tanh(),nn.Linear(64, output_size),nn.Softmax(dim=1))\n",
        "        self.linear1 = nn.Linear(hidden_size, 64)\n",
        "        self.tanh = nn.Tanh()\n",
        "        self.linear2 = nn.Linear(64, output_size)\n",
        "        # self.soft = nn.Softmax(dim=1)\n",
        "        # self.out = nn.Sequential(nn.Linear(hidden_size, output_size),nn.Softmax())\n",
        "        self.init_weight()\n",
        "\n",
        "    def forward(self, input, hidden):\n",
        "\n",
        "        output, hidden = self.rnn(input, hidden)\n",
        "        # reshape the output to be able to pass it to the linear layer\n",
        "        # output = output.contiguous().view(-1, self.hidden_size)\n",
        "        output = self.linear1(output)\n",
        "        output = self.tanh(output)\n",
        "        output = self.linear2(output)\n",
        "        # output = self.soft(output)\n",
        "        return output\n",
        "\n",
        "    def init_hidden(self, batch_size):\n",
        "        return torch.zeros(1,batch_size, self.hidden_size)\n",
        "    def init_weight(self):\n",
        "        for name, param in self.named_parameters():\n",
        "            if 'bias' in name:\n",
        "                nn.init.constant(param, 0.0)\n",
        "            elif 'weight' in name:\n",
        "                nn.init.xavier_normal(param)"
      ],
      "metadata": {
        "id": "sFZ_tcbZv5K9"
      },
      "execution_count": 2,
      "outputs": []
    },
    {
      "cell_type": "code",
      "source": [
        "# Hyperparameter\n",
        "input_size = 38\n",
        "hidden_size = 64\n",
        "output_size = 15\n",
        "batch_size = 1024*8\n",
        "num_epochs = 50"
      ],
      "metadata": {
        "id": "HpKNhjsnv7Qd"
      },
      "execution_count": 3,
      "outputs": []
    },
    {
      "cell_type": "code",
      "source": [
        "# connect to GPU if available\n",
        "device = torch.device(\"cuda:0\" if torch.cuda.is_available() else \"cpu\")\n",
        "print(device)\n",
        "print(torch.cuda.is_available())\n",
        "print(torch.cuda.device_count())\n",
        "\n",
        "# Create an instance of the RNN classifier\n",
        "model = RNNClassifier(input_size, hidden_size, output_size)\n",
        "model.to(device)\n",
        "#######################################################################################\n",
        "Embedding_Data=Embedding_Dataset()\n",
        "train_dataloader = DataLoader(Embedding_Data, batch_size=1024*8, shuffle=True, collate_fn=Embedding_Data.collate_fn)\n",
        "wordEmbeddingVectors ,labels_batches = Embedding_Data.extract_sentences_word_embedding(train_dataloader)\n",
        "#########################################################################################\n",
        "# Define loss function and optimizer\n",
        "criterion = nn.CrossEntropyLoss()\n",
        "optimizer = optim.Adam(model.parameters(), lr=0.005)"
      ],
      "metadata": {
        "colab": {
          "base_uri": "https://localhost:8080/"
        },
        "id": "PIOsZ2ZcwH_1",
        "outputId": "e9011d1d-e5fa-4875-e905-8634ab280556"
      },
      "execution_count": null,
      "outputs": [
        {
          "output_type": "stream",
          "name": "stdout",
          "text": [
            "cpu\n",
            "False\n",
            "0\n"
          ]
        },
        {
          "output_type": "stream",
          "name": "stderr",
          "text": [
            "<ipython-input-2-d5a475f5a635>:35: UserWarning: nn.init.xavier_normal is now deprecated in favor of nn.init.xavier_normal_.\n",
            "  nn.init.xavier_normal(param)\n",
            "<ipython-input-2-d5a475f5a635>:33: UserWarning: nn.init.constant is now deprecated in favor of nn.init.constant_.\n",
            "  nn.init.constant(param, 0.0)\n"
          ]
        },
        {
          "output_type": "stream",
          "name": "stdout",
          "text": [
            "0\n"
          ]
        }
      ]
    },
    {
      "cell_type": "code",
      "source": [
        "# Training loop\n",
        "model.train()\n",
        "for epoch in range(num_epochs):\n",
        "    for inputs, labels in train_dataloader:\n",
        "      # Reshape input and labels to (batch_size, seq_length, input_size)\n",
        "      input = inputs.view(inputs.shape[0], -1, input_size)\n",
        "      labels = labels.view(inputs.shape[0], -1, output_size)\n",
        "      input, labels = input.to(device), labels.to(device)\n",
        "      hidden = model.init_hidden(batch_size=inputs.shape[0])\n",
        "      hidden = hidden.to(device)\n",
        "\n",
        "      # Forward pass\n",
        "      output = model(input, hidden)\n",
        "      # Compute loss\n",
        "      loss = criterion(output, labels)\n",
        "      # Zero the gradients\n",
        "      optimizer.zero_grad()\n",
        "      # Backward pass and optimization\n",
        "      loss.backward()\n",
        "      optimizer.step()\n",
        "      # Print loss for monitoring\n",
        "      print(f\"Epoch: {epoch+1}, Batch Loss: {loss.item()}\")\n",
        "\n"
      ],
      "metadata": {
        "id": "5X7iWR6ywNOg"
      },
      "execution_count": null,
      "outputs": []
    }
  ]
}